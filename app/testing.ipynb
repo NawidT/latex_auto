{
 "cells": [
  {
   "cell_type": "code",
   "execution_count": 5,
   "metadata": {},
   "outputs": [
    {
     "name": "stdout",
     "output_type": "stream",
     "text": [
      "Collecting numpy\n",
      "  Downloading numpy-2.2.5-cp310-cp310-macosx_10_9_x86_64.whl (21.3 MB)\n",
      "\u001b[2K     \u001b[90m━━━━━━━━━━━━━━━━━━━━━━━━━━━━━━━━━━━━━━━━\u001b[0m \u001b[32m21.3/21.3 MB\u001b[0m \u001b[31m18.7 MB/s\u001b[0m eta \u001b[36m0:00:00\u001b[0m00:01\u001b[0m00:01\u001b[0m\n",
      "\u001b[?25hInstalling collected packages: numpy\n",
      "Successfully installed numpy-2.2.5\n"
     ]
    }
   ],
   "source": [
    "# ! pip install langchain-openai\n",
    "! pip install numpy"
   ]
  },
  {
   "cell_type": "code",
   "execution_count": null,
   "metadata": {},
   "outputs": [],
   "source": [
    "from langchain_openai.embeddings import OpenAIEmbeddings\n",
    "\n",
    "embeddings = OpenAIEmbeddings(model=\"text-embedding-3-small\")\n",
    "res = embeddings.embed_query(\"hello world\")"
   ]
  },
  {
   "cell_type": "code",
   "execution_count": 6,
   "metadata": {},
   "outputs": [],
   "source": [
    "import numpy as np"
   ]
  },
  {
   "cell_type": "code",
   "execution_count": 8,
   "metadata": {},
   "outputs": [],
   "source": [
    "instructional_creational_queries = [\n",
    "    \"paragraph about the independence of Lesotho\",\n",
    "    \"bolded statement on the theory of relativity\",\n",
    "    \"concluding sentence for a paper on climate change\",\n",
    "    \"title for an article about AI in education\",\n",
    "    \"introductory paragraph for a blog on personal finance\",\n",
    "    \"bullet points summarizing the causes of World War I\",\n",
    "    \"short poem about the ocean\",\n",
    "    \"metaphor describing time management\",\n",
    "    \"persuasive sentence on why recycling is important\",\n",
    "    \"definition of blockchain in simple terms\",\n",
    "    \"one-line summary of the Great Depression\",\n",
    "    \"email subject line for a job application\",\n",
    "    \"quote-style statement on perseverance\",\n",
    "    \"informal sentence explaining Newton's laws\",\n",
    "    \"academic sentence linking two research studies\",\n",
    "    \"hashtag-friendly phrase about remote work\",\n",
    "    \"caption for a photo of a sunset\",\n",
    "    \"sentence using a simile to describe anxiety\",\n",
    "    \"tweet summarizing the importance of net neutrality\",\n",
    "    \"exclamatory sentence celebrating a scientific discovery\"\n",
    "]\n",
    "\n",
    "unfinished_latex_lines = [\n",
    "    r\"\\begin{itemize}\",\n",
    "    r\"\\item This is an item\",\n",
    "    r\"\\begin{equation}\",\n",
    "    r\"\\frac{a}{\",              # incomplete fraction\n",
    "    r\"\\textbf{Important: \",    # missing closing brace\n",
    "    r\"\\section{Introduction\",  # missing closing brace\n",
    "    r\"\\begin{align}\",\n",
    "    r\"\\includegraphics[width=\", \n",
    "    r\"\\documentclass{\",        # needs class name\n",
    "    r\"\\usepackage{\",           # missing package name\n",
    "    r\"\\begin{tabular}{|c|c|\",  # incomplete column formatting\n",
    "    r\"\\title{A Study on \",     # unfinished title\n",
    "    r\"\\author{\",               # needs author name\n",
    "    r\"\\label{fig:\",            # unfinished figure label\n",
    "    r\"\\cite{\",                 # missing citation key\n",
    "    r\"\\ref{\",                  # missing reference key\n",
    "    r\"\\begin{figure}[htbp]\",   # typical figure start\n",
    "    r\"\\caption{\",              # unfinished caption\n",
    "    r\"\\[ E = mc\",              # incomplete math expression\n",
    "    r\"\\textit{Note: \"          # missing closing brace\n",
    "]\n",
    "\n"
   ]
  },
  {
   "cell_type": "code",
   "execution_count": 9,
   "metadata": {},
   "outputs": [],
   "source": [
    "# for all instructional queries, get their embeddings and find the average embedding\n",
    "instructional_creational_embeddings = [embeddings.embed_query(query) for query in instructional_creational_queries]\n",
    "instructional_creational_average_embedding = np.mean(instructional_creational_embeddings, axis=0)\n",
    "\n",
    "# for all unfinished latex lines, get their embeddings and find the average embedding\n",
    "unfinished_latex_embeddings = [embeddings.embed_query(line) for line in unfinished_latex_lines]\n",
    "unfinished_latex_average_embedding = np.mean(unfinished_latex_embeddings, axis=0)\n"
   ]
  },
  {
   "cell_type": "code",
   "execution_count": 13,
   "metadata": {},
   "outputs": [],
   "source": [
    "# save the average embeddings to a txt file\n",
    "np.savetxt(\"instructional_creational_average_embedding.txt\", instructional_creational_average_embedding)\n",
    "np.savetxt(\"unfinished_latex_average_embedding.txt\", unfinished_latex_average_embedding)"
   ]
  },
  {
   "cell_type": "code",
   "execution_count": 14,
   "metadata": {},
   "outputs": [],
   "source": [
    "# open the file, add a comma to the end of each line and save the file\n",
    "with open(\"instructional_creational_average_embedding.txt\", \"r\") as file:\n",
    "    lines = file.readlines()\n",
    "    with open(\"instructional_creational_average_embedding.txt\", \"w\") as file:\n",
    "        for line in lines:\n",
    "            file.write(line.strip() + \",\" + \"\\n\")\n",
    "\n",
    "with open(\"unfinished_latex_average_embedding.txt\", \"r\") as file:\n",
    "    lines = file.readlines()\n",
    "    with open(\"unfinished_latex_average_embedding.txt\", \"w\") as file:\n",
    "        for line in lines:\n",
    "            file.write(line.strip() + \",\" + \"\\n\")\n"
   ]
  },
  {
   "cell_type": "code",
   "execution_count": 15,
   "metadata": {},
   "outputs": [],
   "source": [
    "failed_ans = \"Sure! Please provide the LaTeX code you would like me to complete.\"\n",
    "failed_ans_embedding = embeddings.embed_query(failed_ans)\n",
    "np.savetxt(\"failed_ans_embedding.txt\", failed_ans_embedding)\n",
    "with open(\"failed_ans_embedding.txt\", \"r\") as file:\n",
    "    lines = file.readlines()\n",
    "    with open(\"failed_ans_embedding.txt\", \"w\") as file:\n",
    "        for line in lines:\n",
    "            file.write(line.strip() + \",\" + \"\\n\")\n"
   ]
  }
 ],
 "metadata": {
  "kernelspec": {
   "display_name": "tg",
   "language": "python",
   "name": "python3"
  },
  "language_info": {
   "codemirror_mode": {
    "name": "ipython",
    "version": 3
   },
   "file_extension": ".py",
   "mimetype": "text/x-python",
   "name": "python",
   "nbconvert_exporter": "python",
   "pygments_lexer": "ipython3",
   "version": "3.10.9"
  }
 },
 "nbformat": 4,
 "nbformat_minor": 2
}
